{
 "cells": [
  {
   "cell_type": "markdown",
   "id": "31181035",
   "metadata": {},
   "source": [
    "## HR Analytics: Job Change of Data Scientists\n",
    "### Predict who will move to a new job\n",
    "A company which is active in Big Data and Data Science wants to hire data scientists among people who successfully pass some courses which conduct by the company. Many people signup for their training. Company wants to know which of these candidates are really wants to work for the company after training or looking for a new employment because it helps to reduce the cost and time as well as the quality of training or planning the courses and categorization of candidates. Information related to demographics, education, experience are in hands from candidates signup and enrollment.\n",
    "\n",
    "This dataset designed to understand the factors that lead a person to leave current job for HR researches too. By model(s) that uses the current credentials,demographics,experience data you will predict the probability of a candidate to look for a new job or will work for the company, as well as interpreting affected factors on employee decision.\n"
   ]
  },
  {
   "cell_type": "markdown",
   "id": "7c8eeea1",
   "metadata": {},
   "source": [
    "### Some information and limitation which detected in EDA and Cleaning Phase\n",
    "### Limitation and Conclousion:\n",
    "    - The data contains 19158 Rows and 14 columns includes Target variable. This is a reasonable size and will allow me to work in Jupyter notebooks\n",
    "    - The most of features dtype is 'object', its mean we work with categorical data.\n",
    "    - There are many features contains missing values.\n",
    "    - we should to make some transformations on the features like 'relevant_exprience' to change values to 'yes', or 'no', and 'Experience', and company size.\n",
    "    - The distribution of training hours seems to be skewed right.\n",
    "    - There are systematic algorithms that we can use to generate synthetic samples. The most popular of such algorithms is called SMOTE or the Synthetic Minority Over-sampling Technique\n",
    "    - One way to remove the skewness is by doing the log transformation. As we take the log transformation, it does not affect the smaller values much, but reduces the larger values.\n",
    "    - city_development index is highly correlated with target variable\n",
    "- some information: Most of the people whome participate in our courses are 'male' and they have a 'relevant experience' in the field and they graduates or complete the master degree.\n",
    "- STEM Students are more intersted in data science more than another discplines"
   ]
  },
  {
   "cell_type": "markdown",
   "id": "a928284b",
   "metadata": {},
   "source": [
    "## Feature Engineering Phase"
   ]
  },
  {
   "cell_type": "markdown",
   "id": "6ed1d9b2",
   "metadata": {},
   "source": [
    "#### important packages and get Dataset"
   ]
  },
  {
   "cell_type": "code",
   "execution_count": 1,
   "id": "2c6aed0f",
   "metadata": {},
   "outputs": [],
   "source": [
    "import numpy as np\n",
    "import pandas as pd\n",
    "import matplotlib.pyplot as plt\n",
    "import seaborn as sns"
   ]
  },
  {
   "cell_type": "code",
   "execution_count": 2,
   "id": "43745f96",
   "metadata": {
    "scrolled": true
   },
   "outputs": [
    {
     "data": {
      "text/html": [
       "<div>\n",
       "<style scoped>\n",
       "    .dataframe tbody tr th:only-of-type {\n",
       "        vertical-align: middle;\n",
       "    }\n",
       "\n",
       "    .dataframe tbody tr th {\n",
       "        vertical-align: top;\n",
       "    }\n",
       "\n",
       "    .dataframe thead th {\n",
       "        text-align: right;\n",
       "    }\n",
       "</style>\n",
       "<table border=\"1\" class=\"dataframe\">\n",
       "  <thead>\n",
       "    <tr style=\"text-align: right;\">\n",
       "      <th></th>\n",
       "      <th>enrollee_id</th>\n",
       "      <th>city</th>\n",
       "      <th>city_development_index</th>\n",
       "      <th>gender</th>\n",
       "      <th>relevent_experience</th>\n",
       "      <th>enrolled_university</th>\n",
       "      <th>education_level</th>\n",
       "      <th>major_discipline</th>\n",
       "      <th>experience</th>\n",
       "      <th>company_size</th>\n",
       "      <th>company_type</th>\n",
       "      <th>last_new_job</th>\n",
       "      <th>training_hours</th>\n",
       "      <th>target</th>\n",
       "    </tr>\n",
       "  </thead>\n",
       "  <tbody>\n",
       "    <tr>\n",
       "      <th>0</th>\n",
       "      <td>8949</td>\n",
       "      <td>city_103</td>\n",
       "      <td>0.920</td>\n",
       "      <td>Male</td>\n",
       "      <td>Has relevent experience</td>\n",
       "      <td>no_enrollment</td>\n",
       "      <td>Graduate</td>\n",
       "      <td>STEM</td>\n",
       "      <td>&gt;20</td>\n",
       "      <td>unknown</td>\n",
       "      <td>Other</td>\n",
       "      <td>1</td>\n",
       "      <td>36</td>\n",
       "      <td>1.0</td>\n",
       "    </tr>\n",
       "    <tr>\n",
       "      <th>1</th>\n",
       "      <td>29725</td>\n",
       "      <td>city_40</td>\n",
       "      <td>0.776</td>\n",
       "      <td>Male</td>\n",
       "      <td>No relevent experience</td>\n",
       "      <td>no_enrollment</td>\n",
       "      <td>Graduate</td>\n",
       "      <td>STEM</td>\n",
       "      <td>15</td>\n",
       "      <td>50-99</td>\n",
       "      <td>Pvt Ltd</td>\n",
       "      <td>&gt;4</td>\n",
       "      <td>47</td>\n",
       "      <td>0.0</td>\n",
       "    </tr>\n",
       "    <tr>\n",
       "      <th>2</th>\n",
       "      <td>11561</td>\n",
       "      <td>city_21</td>\n",
       "      <td>0.624</td>\n",
       "      <td>Female</td>\n",
       "      <td>No relevent experience</td>\n",
       "      <td>Full time course</td>\n",
       "      <td>Graduate</td>\n",
       "      <td>STEM</td>\n",
       "      <td>5</td>\n",
       "      <td>unknown</td>\n",
       "      <td>Other</td>\n",
       "      <td>never</td>\n",
       "      <td>83</td>\n",
       "      <td>0.0</td>\n",
       "    </tr>\n",
       "    <tr>\n",
       "      <th>3</th>\n",
       "      <td>666</td>\n",
       "      <td>city_162</td>\n",
       "      <td>0.767</td>\n",
       "      <td>Male</td>\n",
       "      <td>Has relevent experience</td>\n",
       "      <td>no_enrollment</td>\n",
       "      <td>Masters</td>\n",
       "      <td>STEM</td>\n",
       "      <td>&gt;20</td>\n",
       "      <td>50-99</td>\n",
       "      <td>Funded Startup</td>\n",
       "      <td>4</td>\n",
       "      <td>8</td>\n",
       "      <td>0.0</td>\n",
       "    </tr>\n",
       "    <tr>\n",
       "      <th>4</th>\n",
       "      <td>21651</td>\n",
       "      <td>city_176</td>\n",
       "      <td>0.764</td>\n",
       "      <td>Female</td>\n",
       "      <td>Has relevent experience</td>\n",
       "      <td>Part time course</td>\n",
       "      <td>Graduate</td>\n",
       "      <td>STEM</td>\n",
       "      <td>11</td>\n",
       "      <td>unknown</td>\n",
       "      <td>Other</td>\n",
       "      <td>1</td>\n",
       "      <td>24</td>\n",
       "      <td>1.0</td>\n",
       "    </tr>\n",
       "  </tbody>\n",
       "</table>\n",
       "</div>"
      ],
      "text/plain": [
       "   enrollee_id      city  city_development_index  gender  \\\n",
       "0         8949  city_103                   0.920    Male   \n",
       "1        29725   city_40                   0.776    Male   \n",
       "2        11561   city_21                   0.624  Female   \n",
       "3          666  city_162                   0.767    Male   \n",
       "4        21651  city_176                   0.764  Female   \n",
       "\n",
       "       relevent_experience enrolled_university education_level  \\\n",
       "0  Has relevent experience       no_enrollment        Graduate   \n",
       "1   No relevent experience       no_enrollment        Graduate   \n",
       "2   No relevent experience    Full time course        Graduate   \n",
       "3  Has relevent experience       no_enrollment         Masters   \n",
       "4  Has relevent experience    Part time course        Graduate   \n",
       "\n",
       "  major_discipline experience company_size    company_type last_new_job  \\\n",
       "0             STEM        >20      unknown           Other            1   \n",
       "1             STEM         15        50-99         Pvt Ltd           >4   \n",
       "2             STEM          5      unknown           Other        never   \n",
       "3             STEM        >20        50-99  Funded Startup            4   \n",
       "4             STEM         11      unknown           Other            1   \n",
       "\n",
       "   training_hours  target  \n",
       "0              36     1.0  \n",
       "1              47     0.0  \n",
       "2              83     0.0  \n",
       "3               8     0.0  \n",
       "4              24     1.0  "
      ]
     },
     "execution_count": 2,
     "metadata": {},
     "output_type": "execute_result"
    }
   ],
   "source": [
    "df = pd.read_csv('../2.clean_data/df_cleaned.csv')    \n",
    "df.head()                                 "
   ]
  },
  {
   "cell_type": "code",
   "execution_count": 3,
   "id": "7d5a90f4",
   "metadata": {},
   "outputs": [
    {
     "data": {
      "text/plain": [
       "0"
      ]
     },
     "execution_count": 3,
     "metadata": {},
     "output_type": "execute_result"
    }
   ],
   "source": [
    "df.isna().sum().sum()"
   ]
  },
  {
   "cell_type": "markdown",
   "id": "9de2b65c",
   "metadata": {},
   "source": [
    "### Encode the data for modeling phase"
   ]
  },
  {
   "cell_type": "markdown",
   "id": "715ece5f",
   "metadata": {},
   "source": [
    "#### 1. One Hot Encoding [relevent_experience, gender, enrolled_university]"
   ]
  },
  {
   "cell_type": "code",
   "execution_count": 4,
   "id": "e3bdbb7a",
   "metadata": {},
   "outputs": [
    {
     "data": {
      "text/html": [
       "<div>\n",
       "<style scoped>\n",
       "    .dataframe tbody tr th:only-of-type {\n",
       "        vertical-align: middle;\n",
       "    }\n",
       "\n",
       "    .dataframe tbody tr th {\n",
       "        vertical-align: top;\n",
       "    }\n",
       "\n",
       "    .dataframe thead th {\n",
       "        text-align: right;\n",
       "    }\n",
       "</style>\n",
       "<table border=\"1\" class=\"dataframe\">\n",
       "  <thead>\n",
       "    <tr style=\"text-align: right;\">\n",
       "      <th></th>\n",
       "      <th>enrollee_id</th>\n",
       "      <th>city</th>\n",
       "      <th>city_development_index</th>\n",
       "      <th>education_level</th>\n",
       "      <th>major_discipline</th>\n",
       "      <th>experience</th>\n",
       "      <th>company_size</th>\n",
       "      <th>company_type</th>\n",
       "      <th>last_new_job</th>\n",
       "      <th>training_hours</th>\n",
       "      <th>target</th>\n",
       "      <th>relevent_experience_Has relevent experience</th>\n",
       "      <th>relevent_experience_No relevent experience</th>\n",
       "      <th>enrolled_university_Full time course</th>\n",
       "      <th>enrolled_university_Part time course</th>\n",
       "      <th>enrolled_university_no_enrollment</th>\n",
       "      <th>gender_Female</th>\n",
       "      <th>gender_Male</th>\n",
       "      <th>gender_Other</th>\n",
       "    </tr>\n",
       "  </thead>\n",
       "  <tbody>\n",
       "    <tr>\n",
       "      <th>0</th>\n",
       "      <td>8949</td>\n",
       "      <td>city_103</td>\n",
       "      <td>0.92</td>\n",
       "      <td>Graduate</td>\n",
       "      <td>STEM</td>\n",
       "      <td>&gt;20</td>\n",
       "      <td>unknown</td>\n",
       "      <td>Other</td>\n",
       "      <td>1</td>\n",
       "      <td>36</td>\n",
       "      <td>1.0</td>\n",
       "      <td>1</td>\n",
       "      <td>0</td>\n",
       "      <td>0</td>\n",
       "      <td>0</td>\n",
       "      <td>1</td>\n",
       "      <td>0</td>\n",
       "      <td>1</td>\n",
       "      <td>0</td>\n",
       "    </tr>\n",
       "  </tbody>\n",
       "</table>\n",
       "</div>"
      ],
      "text/plain": [
       "   enrollee_id      city  city_development_index education_level  \\\n",
       "0         8949  city_103                    0.92        Graduate   \n",
       "\n",
       "  major_discipline experience company_size company_type last_new_job  \\\n",
       "0             STEM        >20      unknown        Other            1   \n",
       "\n",
       "   training_hours  target  relevent_experience_Has relevent experience  \\\n",
       "0              36     1.0                                            1   \n",
       "\n",
       "   relevent_experience_No relevent experience  \\\n",
       "0                                           0   \n",
       "\n",
       "   enrolled_university_Full time course  enrolled_university_Part time course  \\\n",
       "0                                     0                                     0   \n",
       "\n",
       "   enrolled_university_no_enrollment  gender_Female  gender_Male  gender_Other  \n",
       "0                                  1              0            1             0  "
      ]
     },
     "execution_count": 4,
     "metadata": {},
     "output_type": "execute_result"
    }
   ],
   "source": [
    "df = pd.get_dummies(df, columns =['relevent_experience', 'enrolled_university', 'gender'])\n",
    "df.head(1)"
   ]
  },
  {
   "cell_type": "code",
   "execution_count": 5,
   "id": "4babf5ab",
   "metadata": {},
   "outputs": [],
   "source": [
    "df = df.drop(['relevent_experience_No relevent experience', 'enrolled_university_Part time course', 'gender_Other'], axis=1)"
   ]
  },
  {
   "cell_type": "markdown",
   "id": "55efc38f",
   "metadata": {},
   "source": [
    "#### 2. Label Encoding [city, education_level, major_discipline, experience, company_size,  company_type, last_new_job]"
   ]
  },
  {
   "cell_type": "code",
   "execution_count": 6,
   "id": "39890428",
   "metadata": {},
   "outputs": [],
   "source": [
    "from sklearn.preprocessing import LabelEncoder"
   ]
  },
  {
   "cell_type": "code",
   "execution_count": 7,
   "id": "51f9eb37",
   "metadata": {},
   "outputs": [],
   "source": [
    "encoder = LabelEncoder()\n",
    "lis = ['education_level', 'major_discipline', 'company_size',  'company_type']\n",
    "for col in lis:\n",
    "    df[col] = encoder.fit_transform(df[col])"
   ]
  },
  {
   "cell_type": "code",
   "execution_count": 8,
   "id": "1f574f7d",
   "metadata": {
    "scrolled": false
   },
   "outputs": [
    {
     "data": {
      "text/html": [
       "<div>\n",
       "<style scoped>\n",
       "    .dataframe tbody tr th:only-of-type {\n",
       "        vertical-align: middle;\n",
       "    }\n",
       "\n",
       "    .dataframe tbody tr th {\n",
       "        vertical-align: top;\n",
       "    }\n",
       "\n",
       "    .dataframe thead th {\n",
       "        text-align: right;\n",
       "    }\n",
       "</style>\n",
       "<table border=\"1\" class=\"dataframe\">\n",
       "  <thead>\n",
       "    <tr style=\"text-align: right;\">\n",
       "      <th></th>\n",
       "      <th>enrollee_id</th>\n",
       "      <th>city</th>\n",
       "      <th>city_development_index</th>\n",
       "      <th>education_level</th>\n",
       "      <th>major_discipline</th>\n",
       "      <th>experience</th>\n",
       "      <th>company_size</th>\n",
       "      <th>company_type</th>\n",
       "      <th>last_new_job</th>\n",
       "      <th>training_hours</th>\n",
       "      <th>target</th>\n",
       "      <th>relevent_experience_Has relevent experience</th>\n",
       "      <th>enrolled_university_Full time course</th>\n",
       "      <th>enrolled_university_no_enrollment</th>\n",
       "      <th>gender_Female</th>\n",
       "      <th>gender_Male</th>\n",
       "    </tr>\n",
       "  </thead>\n",
       "  <tbody>\n",
       "    <tr>\n",
       "      <th>0</th>\n",
       "      <td>8949</td>\n",
       "      <td>city_103</td>\n",
       "      <td>0.920</td>\n",
       "      <td>0</td>\n",
       "      <td>5</td>\n",
       "      <td>&gt;20</td>\n",
       "      <td>8</td>\n",
       "      <td>3</td>\n",
       "      <td>1</td>\n",
       "      <td>36</td>\n",
       "      <td>1.0</td>\n",
       "      <td>1</td>\n",
       "      <td>0</td>\n",
       "      <td>1</td>\n",
       "      <td>0</td>\n",
       "      <td>1</td>\n",
       "    </tr>\n",
       "    <tr>\n",
       "      <th>1</th>\n",
       "      <td>29725</td>\n",
       "      <td>city_40</td>\n",
       "      <td>0.776</td>\n",
       "      <td>0</td>\n",
       "      <td>5</td>\n",
       "      <td>15</td>\n",
       "      <td>4</td>\n",
       "      <td>5</td>\n",
       "      <td>&gt;4</td>\n",
       "      <td>47</td>\n",
       "      <td>0.0</td>\n",
       "      <td>0</td>\n",
       "      <td>0</td>\n",
       "      <td>1</td>\n",
       "      <td>0</td>\n",
       "      <td>1</td>\n",
       "    </tr>\n",
       "    <tr>\n",
       "      <th>2</th>\n",
       "      <td>11561</td>\n",
       "      <td>city_21</td>\n",
       "      <td>0.624</td>\n",
       "      <td>0</td>\n",
       "      <td>5</td>\n",
       "      <td>5</td>\n",
       "      <td>8</td>\n",
       "      <td>3</td>\n",
       "      <td>never</td>\n",
       "      <td>83</td>\n",
       "      <td>0.0</td>\n",
       "      <td>0</td>\n",
       "      <td>1</td>\n",
       "      <td>0</td>\n",
       "      <td>1</td>\n",
       "      <td>0</td>\n",
       "    </tr>\n",
       "    <tr>\n",
       "      <th>3</th>\n",
       "      <td>666</td>\n",
       "      <td>city_162</td>\n",
       "      <td>0.767</td>\n",
       "      <td>2</td>\n",
       "      <td>5</td>\n",
       "      <td>&gt;20</td>\n",
       "      <td>4</td>\n",
       "      <td>1</td>\n",
       "      <td>4</td>\n",
       "      <td>8</td>\n",
       "      <td>0.0</td>\n",
       "      <td>1</td>\n",
       "      <td>0</td>\n",
       "      <td>1</td>\n",
       "      <td>0</td>\n",
       "      <td>1</td>\n",
       "    </tr>\n",
       "    <tr>\n",
       "      <th>4</th>\n",
       "      <td>21651</td>\n",
       "      <td>city_176</td>\n",
       "      <td>0.764</td>\n",
       "      <td>0</td>\n",
       "      <td>5</td>\n",
       "      <td>11</td>\n",
       "      <td>8</td>\n",
       "      <td>3</td>\n",
       "      <td>1</td>\n",
       "      <td>24</td>\n",
       "      <td>1.0</td>\n",
       "      <td>1</td>\n",
       "      <td>0</td>\n",
       "      <td>0</td>\n",
       "      <td>1</td>\n",
       "      <td>0</td>\n",
       "    </tr>\n",
       "  </tbody>\n",
       "</table>\n",
       "</div>"
      ],
      "text/plain": [
       "   enrollee_id      city  city_development_index  education_level  \\\n",
       "0         8949  city_103                   0.920                0   \n",
       "1        29725   city_40                   0.776                0   \n",
       "2        11561   city_21                   0.624                0   \n",
       "3          666  city_162                   0.767                2   \n",
       "4        21651  city_176                   0.764                0   \n",
       "\n",
       "   major_discipline experience  company_size  company_type last_new_job  \\\n",
       "0                 5        >20             8             3            1   \n",
       "1                 5         15             4             5           >4   \n",
       "2                 5          5             8             3        never   \n",
       "3                 5        >20             4             1            4   \n",
       "4                 5         11             8             3            1   \n",
       "\n",
       "   training_hours  target  relevent_experience_Has relevent experience  \\\n",
       "0              36     1.0                                            1   \n",
       "1              47     0.0                                            0   \n",
       "2              83     0.0                                            0   \n",
       "3               8     0.0                                            1   \n",
       "4              24     1.0                                            1   \n",
       "\n",
       "   enrolled_university_Full time course  enrolled_university_no_enrollment  \\\n",
       "0                                     0                                  1   \n",
       "1                                     0                                  1   \n",
       "2                                     1                                  0   \n",
       "3                                     0                                  1   \n",
       "4                                     0                                  0   \n",
       "\n",
       "   gender_Female  gender_Male  \n",
       "0              0            1  \n",
       "1              0            1  \n",
       "2              1            0  \n",
       "3              0            1  \n",
       "4              1            0  "
      ]
     },
     "execution_count": 8,
     "metadata": {},
     "output_type": "execute_result"
    }
   ],
   "source": [
    "df.head()"
   ]
  },
  {
   "cell_type": "markdown",
   "id": "7f846e22",
   "metadata": {},
   "source": [
    "#### Handle stractural Error"
   ]
  },
  {
   "cell_type": "code",
   "execution_count": 9,
   "id": "3c7fd0e3",
   "metadata": {},
   "outputs": [],
   "source": [
    "df['experience'] = df['experience'].replace('>20', 22)\n",
    "df['experience'] = df['experience'].replace('<1', 0)"
   ]
  },
  {
   "cell_type": "code",
   "execution_count": 10,
   "id": "d865f8d6",
   "metadata": {},
   "outputs": [],
   "source": [
    "df['last_new_job'] = df['last_new_job'].replace('>4', 5)\n",
    "df['last_new_job'] = df['last_new_job'].replace('never', 0)"
   ]
  },
  {
   "cell_type": "code",
   "execution_count": 11,
   "id": "0dfe095c",
   "metadata": {},
   "outputs": [],
   "source": [
    "import re "
   ]
  },
  {
   "cell_type": "code",
   "execution_count": 12,
   "id": "59e50045",
   "metadata": {},
   "outputs": [],
   "source": [
    "def find_number(text):\n",
    "    num = re.findall(r'\\d+',text)\n",
    "    return \" \".join(num)\n",
    "df['city']=df['city'].apply(lambda x: find_number(x))"
   ]
  },
  {
   "cell_type": "markdown",
   "id": "74ee0bf5",
   "metadata": {},
   "source": [
    "#### #### Handle data types"
   ]
  },
  {
   "cell_type": "code",
   "execution_count": 13,
   "id": "d3c3f335",
   "metadata": {},
   "outputs": [],
   "source": [
    "for col in list(df.columns):\n",
    "    if df[col].dtype == \"object\":\n",
    "        df[col] = pd.to_numeric(df[col])"
   ]
  },
  {
   "cell_type": "markdown",
   "id": "bfc9ef6d",
   "metadata": {},
   "source": [
    "### Drop unwanted Features"
   ]
  },
  {
   "cell_type": "code",
   "execution_count": 14,
   "id": "41b461af",
   "metadata": {},
   "outputs": [],
   "source": [
    "df = df.drop('enrollee_id', axis=1)"
   ]
  },
  {
   "cell_type": "code",
   "execution_count": 15,
   "id": "09b35987",
   "metadata": {},
   "outputs": [
    {
     "data": {
      "text/plain": [
       "(18014, 15)"
      ]
     },
     "execution_count": 15,
     "metadata": {},
     "output_type": "execute_result"
    }
   ],
   "source": [
    "df.shape"
   ]
  },
  {
   "cell_type": "markdown",
   "id": "1bb9a69b",
   "metadata": {},
   "source": [
    "### Extract useful Features"
   ]
  },
  {
   "cell_type": "code",
   "execution_count": 16,
   "id": "b3125892",
   "metadata": {},
   "outputs": [],
   "source": [
    "df[\"NEW1\"] = df[\"major_discipline\"] * df[\"education_level\"]"
   ]
  },
  {
   "cell_type": "code",
   "execution_count": 17,
   "id": "d4259a20",
   "metadata": {},
   "outputs": [],
   "source": [
    "df[\"NEW2\"] = df[\"experience\"] * df[\"education_level\"]"
   ]
  },
  {
   "cell_type": "code",
   "execution_count": 18,
   "id": "b25979da",
   "metadata": {
    "scrolled": true
   },
   "outputs": [
    {
     "data": {
      "image/png": "[encoded data removed]",
      "text/plain": [
       "<Figure size 864x432 with 2 Axes>"
      ]
     },
     "metadata": {
      "needs_background": "light"
     },
     "output_type": "display_data"
    }
   ],
   "source": [
    "## Check for the correlations between variables\n",
    "plt.figure(figsize=(12,6))\n",
    "sns.heatmap(df.corr(), annot=True, center=0, linewidths=.5, cmap=\"YlGnBu\", fmt='.2f')\n",
    "plt.show()"
   ]
  },
  {
   "cell_type": "markdown",
   "id": "c55e4393",
   "metadata": {},
   "source": [
    "#### Standraization"
   ]
  },
  {
   "cell_type": "code",
   "execution_count": 19,
   "id": "e323e435",
   "metadata": {},
   "outputs": [
    {
     "data": {
      "text/plain": [
       "60.05921999090407"
      ]
     },
     "execution_count": 19,
     "metadata": {},
     "output_type": "execute_result"
    }
   ],
   "source": [
    "df['training_hours'].std()"
   ]
  },
  {
   "cell_type": "code",
   "execution_count": 20,
   "id": "1f003e5c",
   "metadata": {},
   "outputs": [],
   "source": [
    "df['training_hours'] = np.log(df['training_hours'])"
   ]
  },
  {
   "cell_type": "markdown",
   "id": "d862f6a8",
   "metadata": {},
   "source": [
    "### ensampling"
   ]
  },
  {
   "cell_type": "code",
   "execution_count": null,
   "id": "226f6293",
   "metadata": {
    "scrolled": true
   },
   "outputs": [],
   "source": []
  },
  {
   "cell_type": "code",
   "execution_count": 21,
   "id": "1ee4f91b",
   "metadata": {},
   "outputs": [
    {
     "data": {
      "text/html": [
       "<div>\n",
       "<style scoped>\n",
       "    .dataframe tbody tr th:only-of-type {\n",
       "        vertical-align: middle;\n",
       "    }\n",
       "\n",
       "    .dataframe tbody tr th {\n",
       "        vertical-align: top;\n",
       "    }\n",
       "\n",
       "    .dataframe thead th {\n",
       "        text-align: right;\n",
       "    }\n",
       "</style>\n",
       "<table border=\"1\" class=\"dataframe\">\n",
       "  <thead>\n",
       "    <tr style=\"text-align: right;\">\n",
       "      <th></th>\n",
       "      <th>city</th>\n",
       "      <th>city_development_index</th>\n",
       "      <th>education_level</th>\n",
       "      <th>major_discipline</th>\n",
       "      <th>experience</th>\n",
       "      <th>company_size</th>\n",
       "      <th>company_type</th>\n",
       "      <th>last_new_job</th>\n",
       "      <th>training_hours</th>\n",
       "      <th>target</th>\n",
       "      <th>relevent_experience_Has relevent experience</th>\n",
       "      <th>enrolled_university_Full time course</th>\n",
       "      <th>enrolled_university_no_enrollment</th>\n",
       "      <th>gender_Female</th>\n",
       "      <th>gender_Male</th>\n",
       "      <th>NEW1</th>\n",
       "      <th>NEW2</th>\n",
       "    </tr>\n",
       "  </thead>\n",
       "  <tbody>\n",
       "    <tr>\n",
       "      <th>count</th>\n",
       "      <td>18014.000000</td>\n",
       "      <td>18014.000000</td>\n",
       "      <td>18014.000000</td>\n",
       "      <td>18014.000000</td>\n",
       "      <td>18014.000000</td>\n",
       "      <td>18014.000000</td>\n",
       "      <td>18014.000000</td>\n",
       "      <td>18014.000000</td>\n",
       "      <td>18014.000000</td>\n",
       "      <td>18014.000000</td>\n",
       "      <td>18014.000000</td>\n",
       "      <td>18014.000000</td>\n",
       "      <td>18014.000000</td>\n",
       "      <td>18014.000000</td>\n",
       "      <td>18014.000000</td>\n",
       "      <td>18014.000000</td>\n",
       "      <td>18014.000000</td>\n",
       "    </tr>\n",
       "    <tr>\n",
       "      <th>mean</th>\n",
       "      <td>80.260242</td>\n",
       "      <td>0.831728</td>\n",
       "      <td>0.706395</td>\n",
       "      <td>4.583824</td>\n",
       "      <td>10.459087</td>\n",
       "      <td>4.518708</td>\n",
       "      <td>3.872988</td>\n",
       "      <td>2.026535</td>\n",
       "      <td>3.761903</td>\n",
       "      <td>0.245420</td>\n",
       "      <td>0.732208</td>\n",
       "      <td>0.195237</td>\n",
       "      <td>0.740979</td>\n",
       "      <td>0.281392</td>\n",
       "      <td>0.709004</td>\n",
       "      <td>3.194293</td>\n",
       "      <td>8.017986</td>\n",
       "    </tr>\n",
       "    <tr>\n",
       "      <th>std</th>\n",
       "      <td>46.226282</td>\n",
       "      <td>0.122115</td>\n",
       "      <td>1.001806</td>\n",
       "      <td>0.986866</td>\n",
       "      <td>7.045377</td>\n",
       "      <td>2.847453</td>\n",
       "      <td>1.384768</td>\n",
       "      <td>1.673468</td>\n",
       "      <td>0.986348</td>\n",
       "      <td>0.430348</td>\n",
       "      <td>0.442821</td>\n",
       "      <td>0.396394</td>\n",
       "      <td>0.438109</td>\n",
       "      <td>0.449691</td>\n",
       "      <td>0.454234</td>\n",
       "      <td>4.663982</td>\n",
       "      <td>14.627749</td>\n",
       "    </tr>\n",
       "    <tr>\n",
       "      <th>min</th>\n",
       "      <td>1.000000</td>\n",
       "      <td>0.448000</td>\n",
       "      <td>0.000000</td>\n",
       "      <td>0.000000</td>\n",
       "      <td>0.000000</td>\n",
       "      <td>0.000000</td>\n",
       "      <td>0.000000</td>\n",
       "      <td>0.000000</td>\n",
       "      <td>0.000000</td>\n",
       "      <td>0.000000</td>\n",
       "      <td>0.000000</td>\n",
       "      <td>0.000000</td>\n",
       "      <td>0.000000</td>\n",
       "      <td>0.000000</td>\n",
       "      <td>0.000000</td>\n",
       "      <td>0.000000</td>\n",
       "      <td>0.000000</td>\n",
       "    </tr>\n",
       "    <tr>\n",
       "      <th>25%</th>\n",
       "      <td>21.000000</td>\n",
       "      <td>0.745000</td>\n",
       "      <td>0.000000</td>\n",
       "      <td>5.000000</td>\n",
       "      <td>5.000000</td>\n",
       "      <td>2.000000</td>\n",
       "      <td>3.000000</td>\n",
       "      <td>1.000000</td>\n",
       "      <td>3.135494</td>\n",
       "      <td>0.000000</td>\n",
       "      <td>0.000000</td>\n",
       "      <td>0.000000</td>\n",
       "      <td>0.000000</td>\n",
       "      <td>0.000000</td>\n",
       "      <td>0.000000</td>\n",
       "      <td>0.000000</td>\n",
       "      <td>0.000000</td>\n",
       "    </tr>\n",
       "    <tr>\n",
       "      <th>50%</th>\n",
       "      <td>101.000000</td>\n",
       "      <td>0.910000</td>\n",
       "      <td>0.000000</td>\n",
       "      <td>5.000000</td>\n",
       "      <td>9.000000</td>\n",
       "      <td>4.000000</td>\n",
       "      <td>5.000000</td>\n",
       "      <td>1.000000</td>\n",
       "      <td>3.850148</td>\n",
       "      <td>0.000000</td>\n",
       "      <td>1.000000</td>\n",
       "      <td>0.000000</td>\n",
       "      <td>1.000000</td>\n",
       "      <td>0.000000</td>\n",
       "      <td>1.000000</td>\n",
       "      <td>0.000000</td>\n",
       "      <td>0.000000</td>\n",
       "    </tr>\n",
       "    <tr>\n",
       "      <th>75%</th>\n",
       "      <td>103.000000</td>\n",
       "      <td>0.920000</td>\n",
       "      <td>2.000000</td>\n",
       "      <td>5.000000</td>\n",
       "      <td>16.000000</td>\n",
       "      <td>8.000000</td>\n",
       "      <td>5.000000</td>\n",
       "      <td>3.000000</td>\n",
       "      <td>4.477337</td>\n",
       "      <td>0.000000</td>\n",
       "      <td>1.000000</td>\n",
       "      <td>0.000000</td>\n",
       "      <td>1.000000</td>\n",
       "      <td>1.000000</td>\n",
       "      <td>1.000000</td>\n",
       "      <td>8.000000</td>\n",
       "      <td>10.000000</td>\n",
       "    </tr>\n",
       "    <tr>\n",
       "      <th>max</th>\n",
       "      <td>180.000000</td>\n",
       "      <td>0.949000</td>\n",
       "      <td>4.000000</td>\n",
       "      <td>5.000000</td>\n",
       "      <td>22.000000</td>\n",
       "      <td>8.000000</td>\n",
       "      <td>5.000000</td>\n",
       "      <td>5.000000</td>\n",
       "      <td>5.817111</td>\n",
       "      <td>1.000000</td>\n",
       "      <td>1.000000</td>\n",
       "      <td>1.000000</td>\n",
       "      <td>1.000000</td>\n",
       "      <td>1.000000</td>\n",
       "      <td>1.000000</td>\n",
       "      <td>16.000000</td>\n",
       "      <td>88.000000</td>\n",
       "    </tr>\n",
       "  </tbody>\n",
       "</table>\n",
       "</div>"
      ],
      "text/plain": [
       "               city  city_development_index  education_level  \\\n",
       "count  18014.000000            18014.000000     18014.000000   \n",
       "mean      80.260242                0.831728         0.706395   \n",
       "std       46.226282                0.122115         1.001806   \n",
       "min        1.000000                0.448000         0.000000   \n",
       "25%       21.000000                0.745000         0.000000   \n",
       "50%      101.000000                0.910000         0.000000   \n",
       "75%      103.000000                0.920000         2.000000   \n",
       "max      180.000000                0.949000         4.000000   \n",
       "\n",
       "       major_discipline    experience  company_size  company_type  \\\n",
       "count      18014.000000  18014.000000  18014.000000  18014.000000   \n",
       "mean           4.583824     10.459087      4.518708      3.872988   \n",
       "std            0.986866      7.045377      2.847453      1.384768   \n",
       "min            0.000000      0.000000      0.000000      0.000000   \n",
       "25%            5.000000      5.000000      2.000000      3.000000   \n",
       "50%            5.000000      9.000000      4.000000      5.000000   \n",
       "75%            5.000000     16.000000      8.000000      5.000000   \n",
       "max            5.000000     22.000000      8.000000      5.000000   \n",
       "\n",
       "       last_new_job  training_hours        target  \\\n",
       "count  18014.000000    18014.000000  18014.000000   \n",
       "mean       2.026535        3.761903      0.245420   \n",
       "std        1.673468        0.986348      0.430348   \n",
       "min        0.000000        0.000000      0.000000   \n",
       "25%        1.000000        3.135494      0.000000   \n",
       "50%        1.000000        3.850148      0.000000   \n",
       "75%        3.000000        4.477337      0.000000   \n",
       "max        5.000000        5.817111      1.000000   \n",
       "\n",
       "       relevent_experience_Has relevent experience  \\\n",
       "count                                 18014.000000   \n",
       "mean                                      0.732208   \n",
       "std                                       0.442821   \n",
       "min                                       0.000000   \n",
       "25%                                       0.000000   \n",
       "50%                                       1.000000   \n",
       "75%                                       1.000000   \n",
       "max                                       1.000000   \n",
       "\n",
       "       enrolled_university_Full time course  \\\n",
       "count                          18014.000000   \n",
       "mean                               0.195237   \n",
       "std                                0.396394   \n",
       "min                                0.000000   \n",
       "25%                                0.000000   \n",
       "50%                                0.000000   \n",
       "75%                                0.000000   \n",
       "max                                1.000000   \n",
       "\n",
       "       enrolled_university_no_enrollment  gender_Female   gender_Male  \\\n",
       "count                       18014.000000   18014.000000  18014.000000   \n",
       "mean                            0.740979       0.281392      0.709004   \n",
       "std                             0.438109       0.449691      0.454234   \n",
       "min                             0.000000       0.000000      0.000000   \n",
       "25%                             0.000000       0.000000      0.000000   \n",
       "50%                             1.000000       0.000000      1.000000   \n",
       "75%                             1.000000       1.000000      1.000000   \n",
       "max                             1.000000       1.000000      1.000000   \n",
       "\n",
       "               NEW1          NEW2  \n",
       "count  18014.000000  18014.000000  \n",
       "mean       3.194293      8.017986  \n",
       "std        4.663982     14.627749  \n",
       "min        0.000000      0.000000  \n",
       "25%        0.000000      0.000000  \n",
       "50%        0.000000      0.000000  \n",
       "75%        8.000000     10.000000  \n",
       "max       16.000000     88.000000  "
      ]
     },
     "execution_count": 21,
     "metadata": {},
     "output_type": "execute_result"
    }
   ],
   "source": [
    "df.describe()"
   ]
  },
  {
   "cell_type": "code",
   "execution_count": 22,
   "id": "ce7bf2a8",
   "metadata": {},
   "outputs": [],
   "source": [
    "df.to_csv('data_process.csv', index=False)"
   ]
  },
  {
   "cell_type": "code",
   "execution_count": null,
   "id": "c7138632",
   "metadata": {},
   "outputs": [],
   "source": [
    "بقخة "
   ]
  }
 ],
 "metadata": {
  "kernelspec": {
   "display_name": "Python 3",
   "language": "python",
   "name": "python3"
  },
  "language_info": {
   "codemirror_mode": {
    "name": "ipython",
    "version": 3
   },
   "file_extension": ".py",
   "mimetype": "text/x-python",
   "name": "python",
   "nbconvert_exporter": "python",
   "pygments_lexer": "ipython3",
   "version": "3.8.8"
  }
 },
 "nbformat": 4,
 "nbformat_minor": 5
}
